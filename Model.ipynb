{
 "cells": [
  {
   "cell_type": "code",
   "execution_count": 1,
   "metadata": {},
   "outputs": [],
   "source": [
    "import tensorflow as tf\n",
    "import os\n",
    "import cv2\n",
    "import numpy as np\n",
    "import pandas as pd\n",
    "import matplotlib.pyplot as plt"
   ]
  },
  {
   "cell_type": "code",
   "execution_count": 2,
   "metadata": {},
   "outputs": [
    {
     "data": {
      "text/plain": [
       "10230677545_1be11b5762_o.jpg    15\n",
       "10230680375_bdd478d293_o.jpg    15\n",
       "11014305184_25bc533930_o.jpg    15\n",
       "12120012874_6f5202c1f9_o.jpg    14\n",
       "12119902023_bb49e9b241_o.jpg    14\n",
       "                                ..\n",
       "11242611395_04ea4b31c1_o.jpg     1\n",
       "11242627745_7c26e6beb0_o.jpg     1\n",
       "11793993056_67ab2b84f9_o.jpg     1\n",
       "9259205250_c2d0499c52_o.jpg      1\n",
       "10399646885_67c7d20df9_o.jpg     1\n",
       "Name: original_image, Length: 13082, dtype: int64"
      ]
     },
     "execution_count": 2,
     "metadata": {},
     "output_type": "execute_result"
    }
   ],
   "source": [
    "Data=pd.read_csv('Data.csv')\n",
    "# Data.info()\n",
    "# Data.info()\n",
    "Data[\"original_image\"].value_counts()\n",
    "\n"
   ]
  },
  {
   "cell_type": "code",
   "execution_count": 3,
   "metadata": {},
   "outputs": [
    {
     "data": {
      "text/plain": [
       "(19370, 12)"
      ]
     },
     "execution_count": 3,
     "metadata": {},
     "output_type": "execute_result"
    }
   ],
   "source": [
    "Data.shape"
   ]
  },
  {
   "cell_type": "code",
   "execution_count": 4,
   "metadata": {},
   "outputs": [
    {
     "data": {
      "text/plain": [
       "0           1.10399646885_67c7d20df9_o.jpg\n",
       "1           2.10424815813_e94629b1ec_o.jpg\n",
       "2           1.10437979845_5985be4b26_o.jpg\n",
       "3           3.10437979845_5985be4b26_o.jpg\n",
       "4           2.11816644924_075c3d8d59_o.jpg\n",
       "                       ...                \n",
       "19365    1739.11827967936_b29e8e87eb_o.jpg\n",
       "19366    1742.11826123976_c7d6738478_o.jpg\n",
       "19367    1743.11827955196_c97e4f877d_o.jpg\n",
       "19368    1741.11826168836_69124b9bdf_o.jpg\n",
       "19369    1736.11826168836_69124b9bdf_o.jpg\n",
       "Name: Image_id, Length: 19370, dtype: object"
      ]
     },
     "execution_count": 4,
     "metadata": {},
     "output_type": "execute_result"
    }
   ],
   "source": [
    "Data[\"face_id\"]=Data[\"face_id\"].astype(str)\n",
    "Data[\"face_id\"]=Data[\"face_id\"].replace(\",\",\"\")\n",
    "Data[\"Image_id\"]=Data[\"face_id\"]+\".\"+Data[\"original_image\"]\n",
    "Data.head()\n",
    "Image_id=Data[\"Image_id\"]\n",
    "Image_id=list(Image_id)\n",
    "type(Image_id)\n",
    "Data[\"Image_id\"]\n"
   ]
  },
  {
   "cell_type": "code",
   "execution_count": 8,
   "metadata": {},
   "outputs": [
    {
     "ename": "MemoryError",
     "evalue": "Unable to allocate 80.7 GiB for an array with shape (19370, 932, 600) and data type float64",
     "output_type": "error",
     "traceback": [
      "\u001b[1;31m---------------------------------------------------------------------------\u001b[0m",
      "\u001b[1;31mMemoryError\u001b[0m                               Traceback (most recent call last)",
      "\u001b[1;32m~\\AppData\\Local\\Temp/ipykernel_21372/3482479593.py\u001b[0m in \u001b[0;36m<module>\u001b[1;34m\u001b[0m\n\u001b[0;32m     13\u001b[0m             \u001b[1;32mcontinue\u001b[0m\u001b[1;33m\u001b[0m\u001b[1;33m\u001b[0m\u001b[0m\n\u001b[0;32m     14\u001b[0m \u001b[1;33m\u001b[0m\u001b[0m\n\u001b[1;32m---> 15\u001b[1;33m \u001b[0mimgs\u001b[0m \u001b[1;33m=\u001b[0m \u001b[0mnp\u001b[0m\u001b[1;33m.\u001b[0m\u001b[0mzeros\u001b[0m\u001b[1;33m(\u001b[0m\u001b[1;33m(\u001b[0m\u001b[0mcount\u001b[0m\u001b[1;33m,\u001b[0m \u001b[1;36m932\u001b[0m\u001b[1;33m,\u001b[0m \u001b[1;36m600\u001b[0m\u001b[1;33m)\u001b[0m\u001b[1;33m)\u001b[0m\u001b[1;33m\u001b[0m\u001b[1;33m\u001b[0m\u001b[0m\n\u001b[0m\u001b[0;32m     16\u001b[0m \u001b[0mImageDir\u001b[0m\u001b[1;33m=\u001b[0m\u001b[0mos\u001b[0m\u001b[1;33m.\u001b[0m\u001b[0mlistdir\u001b[0m\u001b[1;33m(\u001b[0m\u001b[1;34m\"AdienceBenchmarkGenderAndAgeClassification\\\\faces\"\u001b[0m\u001b[1;33m)\u001b[0m\u001b[1;33m\u001b[0m\u001b[1;33m\u001b[0m\u001b[0m\n\u001b[0;32m     17\u001b[0m \u001b[1;33m\u001b[0m\u001b[0m\n",
      "\u001b[1;31mMemoryError\u001b[0m: Unable to allocate 80.7 GiB for an array with shape (19370, 932, 600) and data type float64"
     ]
    }
   ],
   "source": [
    "Gender_label=[]\n",
    "Images=[]\n",
    "Age_label=[]\n",
    "count=0\n",
    "\n",
    "ImageDir=os.listdir(\"AdienceBenchmarkGenderAndAgeClassification\\\\faces\")\n",
    "\n",
    "for i in ImageDir:\n",
    "    ImageDirectory=os.listdir(\"AdienceBenchmarkGenderAndAgeClassification\\\\faces\\\\\"+str(i))\n",
    "    for file in ImageDirectory:\n",
    "        if file.endswith(\".jpg\"):\n",
    "            count=count+1\n",
    "            continue\n",
    "\n",
    "imgs = np.zeros((count, 932, 600))\n",
    "ImageDir=os.listdir(\"AdienceBenchmarkGenderAndAgeClassification\\\\faces\")\n",
    "\n",
    "for i in ImageDir:\n",
    "    ImageDirectory=os.listdir(\"AdienceBenchmarkGenderAndAgeClassification\\\\faces\\\\\"+str(i))\n",
    "    for file in ImageDirectory:\n",
    "            Image=cv2.imread(\"AdienceBenchmarkGenderAndAgeClassification\\\\faces\\\\\"+str(i)+\"\\\\\"+str(file))\n",
    "            grey=cv2.cvtColor(Image,cv2.COLOR_BGR2GRAY)\n",
    "            Image=cv2.resize(grey,(932,600))\n",
    "            imgs[count - 1,:,:] = Image\n",
    "            count -= 1\n",
    "            # Images.append(Image) windirstat\n",
    "            name=file.split(\".\")[1]+\".\"+file.split(\".\")[2]+\".jpg\"\n",
    "            label=Image_id.index(name)\n",
    "            Gender_label.append(Data.iloc[label,4])\n",
    "            Age_label.append(Data.iloc[label,3])\n",
    "\n",
    "            \n"
   ]
  },
  {
   "cell_type": "code",
   "execution_count": 31,
   "metadata": {},
   "outputs": [
    {
     "name": "stdout",
     "output_type": "stream",
     "text": [
      "10831703998\n",
      "19366\n",
      "19368\n"
     ]
    }
   ],
   "source": [
    "print(len(Images))\n",
    "print(len(Age_label))\n",
    "print(len(Gender_label))"
   ]
  },
  {
   "cell_type": "code",
   "execution_count": 32,
   "metadata": {},
   "outputs": [
    {
     "name": "stdout",
     "output_type": "stream",
     "text": [
      "['f' 'm' 'nan' 'u']\n",
      "['(0, 2)' '(15, 20)' '(25, 32)' '(27, 32)' '(38, 42)' '(38, 43)'\n",
      " '(38, 48)' '(4, 6)' '(48, 53)' '(60, 100)' '(8, 12)' '(8, 23)' '13' '2'\n",
      " '22' '23' '29' '3' '32' '34' '35' '36' '42' '45' '46' '55' '56' '57' '58'\n",
      " 'None']\n"
     ]
    }
   ],
   "source": [
    "Gender_label=np.array(Gender_label)\n",
    "Age_label=np.array(Age_label)\n",
    "print(np.unique(Gender_label))\n",
    "print(np.unique(Age_label))\n",
    "print(type(Age_label))\n"
   ]
  },
  {
   "cell_type": "code",
   "execution_count": 17,
   "metadata": {},
   "outputs": [],
   "source": []
  },
  {
   "cell_type": "code",
   "execution_count": 33,
   "metadata": {},
   "outputs": [
    {
     "name": "stdout",
     "output_type": "stream",
     "text": [
      "(19366,)\n",
      "(19368,)\n",
      "(10831703998,)\n"
     ]
    }
   ],
   "source": [
    "print(Age_label.shape)\n",
    "print(Gender_label.shape)\n",
    "print(Images.shape)"
   ]
  },
  {
   "cell_type": "code",
   "execution_count": 19,
   "metadata": {},
   "outputs": [
    {
     "name": "stdout",
     "output_type": "stream",
     "text": [
      "<class 'pandas.core.frame.DataFrame'>\n",
      "RangeIndex: 19370 entries, 0 to 19369\n",
      "Data columns (total 13 columns):\n",
      " #   Column              Non-Null Count  Dtype \n",
      "---  ------              --------------  ----- \n",
      " 0   user_id             19370 non-null  object\n",
      " 1   original_image      19370 non-null  object\n",
      " 2   face_id             19370 non-null  object\n",
      " 3   age                 19370 non-null  object\n",
      " 4   gender              18591 non-null  object\n",
      " 5   x                   19370 non-null  int64 \n",
      " 6   y                   19370 non-null  int64 \n",
      " 7   dx                  19370 non-null  int64 \n",
      " 8   dy                  19370 non-null  int64 \n",
      " 9   tilt_ang            19370 non-null  int64 \n",
      " 10  fiducial_yaw_angle  19370 non-null  int64 \n",
      " 11  fiducial_score      19370 non-null  int64 \n",
      " 12  Image_id            19370 non-null  object\n",
      "dtypes: int64(7), object(6)\n",
      "memory usage: 1.9+ MB\n"
     ]
    }
   ],
   "source": [
    "Data.info()"
   ]
  },
  {
   "cell_type": "code",
   "execution_count": 29,
   "metadata": {},
   "outputs": [
    {
     "data": {
      "text/plain": [
       "(10831703998,)"
      ]
     },
     "execution_count": 29,
     "metadata": {},
     "output_type": "execute_result"
    }
   ],
   "source": [
    "Images.shape"
   ]
  },
  {
   "cell_type": "code",
   "execution_count": 6,
   "metadata": {},
   "outputs": [
    {
     "ename": "AttributeError",
     "evalue": "'list' object has no attribute 'shape'",
     "output_type": "error",
     "traceback": [
      "\u001b[1;31m---------------------------------------------------------------------------\u001b[0m",
      "\u001b[1;31mAttributeError\u001b[0m                            Traceback (most recent call last)",
      "\u001b[1;32m~\\AppData\\Local\\Temp/ipykernel_21372/3872631274.py\u001b[0m in \u001b[0;36m<module>\u001b[1;34m\u001b[0m\n\u001b[0;32m      6\u001b[0m         \u001b[0mGender_label\u001b[0m\u001b[1;33m=\u001b[0m\u001b[0mnp\u001b[0m\u001b[1;33m.\u001b[0m\u001b[0mdelete\u001b[0m\u001b[1;33m(\u001b[0m\u001b[0mGender_label\u001b[0m\u001b[1;33m,\u001b[0m\u001b[0mi\u001b[0m\u001b[1;33m)\u001b[0m\u001b[1;33m\u001b[0m\u001b[1;33m\u001b[0m\u001b[0m\n\u001b[0;32m      7\u001b[0m         \u001b[0mcount\u001b[0m\u001b[1;33m+=\u001b[0m\u001b[1;36m1\u001b[0m\u001b[1;33m\u001b[0m\u001b[1;33m\u001b[0m\u001b[0m\n\u001b[1;32m----> 8\u001b[1;33m \u001b[0mprint\u001b[0m\u001b[1;33m(\u001b[0m\u001b[0mAge_label\u001b[0m\u001b[1;33m.\u001b[0m\u001b[0mshape\u001b[0m\u001b[1;33m)\u001b[0m\u001b[1;33m\u001b[0m\u001b[1;33m\u001b[0m\u001b[0m\n\u001b[0m\u001b[0;32m      9\u001b[0m \u001b[0mprint\u001b[0m\u001b[1;33m(\u001b[0m\u001b[0mGender_label\u001b[0m\u001b[1;33m.\u001b[0m\u001b[0mshape\u001b[0m\u001b[1;33m)\u001b[0m\u001b[1;33m\u001b[0m\u001b[1;33m\u001b[0m\u001b[0m\n\u001b[0;32m     10\u001b[0m \u001b[0mprint\u001b[0m\u001b[1;33m(\u001b[0m\u001b[0mImages\u001b[0m\u001b[1;33m.\u001b[0m\u001b[0mshape\u001b[0m\u001b[1;33m)\u001b[0m\u001b[1;33m\u001b[0m\u001b[1;33m\u001b[0m\u001b[0m\n",
      "\u001b[1;31mAttributeError\u001b[0m: 'list' object has no attribute 'shape'"
     ]
    }
   ],
   "source": [
    "count=0\n",
    "for i in range(len(Gender_label)):\n",
    "    if(Gender_label[i]=='nan'):\n",
    "        Age_label=np.delete(Age_label,i)\n",
    "        Images=np.delete(Images,i)\n",
    "        Gender_label=np.delete(Gender_label,i)\n",
    "        count+=1\n",
    "print(Age_label.shape)\n",
    "print(Gender_label.shape)\n",
    "print(Images.shape)\n",
    "print(count)\n"
   ]
  },
  {
   "cell_type": "code",
   "execution_count": null,
   "metadata": {},
   "outputs": [],
   "source": []
  }
 ],
 "metadata": {
  "interpreter": {
   "hash": "660a0086d59539796df1e68fcdf709fbdb555aff2c522d4fe02ad9775d7db839"
  },
  "kernelspec": {
   "display_name": "Python 3.10.1 64-bit",
   "language": "python",
   "name": "python3"
  },
  "language_info": {
   "codemirror_mode": {
    "name": "ipython",
    "version": 3
   },
   "file_extension": ".py",
   "mimetype": "text/x-python",
   "name": "python",
   "nbconvert_exporter": "python",
   "pygments_lexer": "ipython3",
   "version": "3.10.1"
  },
  "orig_nbformat": 4
 },
 "nbformat": 4,
 "nbformat_minor": 2
}
